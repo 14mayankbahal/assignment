{
 "cells": [
  {
   "cell_type": "code",
   "execution_count": 2,
   "id": "9c0823a8-b686-4a52-9b23-03b3ac3aac2c",
   "metadata": {},
   "outputs": [],
   "source": [
    "Ans_1 = [\"Guido van Rossum\"]"
   ]
  },
  {
   "cell_type": "code",
   "execution_count": 3,
   "id": "e337c8b8-f40f-4c3b-8e6e-6542edc0096a",
   "metadata": {},
   "outputs": [],
   "source": [
    "Ans_2 = [\"Python is an interpreted programming language, supporting object-oriented, structured, and functional programming\"]"
   ]
  },
  {
   "cell_type": "code",
   "execution_count": 4,
   "id": "75028ab0-f2f6-47c8-b677-d564ac7a75e1",
   "metadata": {},
   "outputs": [],
   "source": [
    "Ans_3 = [\"Yes, Python is a case-sensitive language, i.e., it treats uppercase and lowercase characters differently. This applies to identifiers too. You must avoid using the same name with different cases while naming identifiers\"]"
   ]
  },
  {
   "cell_type": "code",
   "execution_count": 6,
   "id": "fe9cbf2c-72dc-441c-bae6-0d3e60e2cde0",
   "metadata": {},
   "outputs": [],
   "source": [
    "Ans_4 = [\".py\" ,\".pyi\" ,\".pyc\" , \".pyd\" , \".pyo\", \".pyw\" , \".pyz\"]"
   ]
  },
  {
   "cell_type": "code",
   "execution_count": 12,
   "id": "3a50ffc6-6634-4ffd-bf30-79fa8f0c9294",
   "metadata": {},
   "outputs": [],
   "source": [
    "Ans_5 = [\"Python is an interpreted language. which means the source code of a Python program is converted into bytecode that is then executed by the Python virtual machine. Python is different from major compiled languages, such as C and C + + as Python code is not required to be built and linked like code for these languages\"]"
   ]
  },
  {
   "cell_type": "code",
   "execution_count": 13,
   "id": "057c59c6-5d7c-47aa-afa4-ff1f87095fde",
   "metadata": {},
   "outputs": [],
   "source": [
    "Ans_6 = [\"The following are blocks: a module, a function body, and a class definition. Each command typed interactively is a block. A script file (a file given as standard input to the interpreter or specified as a command line argument to the interpreter) is a code block\"]"
   ]
  },
  {
   "cell_type": "code",
   "execution_count": 14,
   "id": "c5ff214a-c1e8-4eca-b752-5aaa89b87cf7",
   "metadata": {},
   "outputs": [],
   "source": [
    "Ans_7  = [\"We can write a single-line comment by adding a single # character before any statement or line of code\"]"
   ]
  },
  {
   "cell_type": "code",
   "execution_count": 16,
   "id": "a2b7d457-b3a0-46c0-804c-7b7f263c13eb",
   "metadata": {},
   "outputs": [],
   "source": [
    "Ans_8 = [\"The function sys. version can help us to find the version of python that we are currently working on. It also contains information on the build number and compiler used\"]"
   ]
  },
  {
   "cell_type": "code",
   "execution_count": 17,
   "id": "a71f795b-1e44-4572-a5ac-b4ce9d51a18a",
   "metadata": {},
   "outputs": [],
   "source": [
    "Ans_9 = [\"lambda\"]"
   ]
  },
  {
   "cell_type": "code",
   "execution_count": 18,
   "id": "7cda9f92-f89a-4c53-a8f8-1217a026af0d",
   "metadata": {},
   "outputs": [],
   "source": [
    "Ans_10 = [\"pip (an acronym of “pip Install Packages”) is today the standard tool for installing Python packages and their dependencies in a secure manner. Most recent distributions of Python come with pip preinstalled. Python 2.7. 9 and Python 3.4 and later versions include pip by default.\"]"
   ]
  },
  {
   "cell_type": "code",
   "execution_count": 19,
   "id": "8621c84a-7764-4864-87c2-6486d0587429",
   "metadata": {},
   "outputs": [],
   "source": [
    "Ans_11 = [\"bool()\" , \"dict()\", \"float()\", \"input()\" ,\"int()\" , \"list()\" , \"print()\", \"set()\", \"str()\", \"tuple()\", \"type()\"]"
   ]
  },
  {
   "cell_type": "code",
   "execution_count": 21,
   "id": "20db6a02-e2e5-43bb-acc7-a88072b3458f",
   "metadata": {},
   "outputs": [],
   "source": [
    "Ans_12 = [\"79_characters\"]"
   ]
  },
  {
   "cell_type": "code",
   "execution_count": 22,
   "id": "542ccc98-1924-4a35-8f7a-e02063d1bc94",
   "metadata": {},
   "outputs": [],
   "source": [
    "Ans_13 = [\"Data science\", \"Web development\", \"Finance and trading\" , \"Computer graphics\" , \"Basic game development\" , \"Security and penetration testing\", \"Scientific and mathematical computing\"]"
   ]
  },
  {
   "cell_type": "code",
   "execution_count": 23,
   "id": "5fa066ee-446f-44dd-bae5-de0f5f6baff8",
   "metadata": {},
   "outputs": [],
   "source": [
    "Ans_14 = [\"Memory management in Python involves a private heap containing all Python objects and data structures\"]"
   ]
  },
  {
   "cell_type": "code",
   "execution_count": 24,
   "id": "53895bfb-0ec1-44b9-af0b-ff58a4b27132",
   "metadata": {},
   "outputs": [],
   "source": [
    "Ans_15 =[\"1st Right-clicking This PC and going to Properties.\" ,\"2nd Clicking on the Advanced system settings in the menu on the left.\",\"3rd Clicking on the Environment Variables button on the bottom right.\",\"4th In the System variables section, selecting the Path variable and clicking on Edit. The next screen will show all the directories that are currently a part of the PATH variable.\",\"5th Clicking on New and entering Python’s install directory.\"]"
   ]
  },
  {
   "cell_type": "code",
   "execution_count": null,
   "id": "395f3620-eec8-4163-8b08-74deec4df839",
   "metadata": {},
   "outputs": [],
   "source": []
  }
 ],
 "metadata": {
  "kernelspec": {
   "display_name": "Python 3 (ipykernel)",
   "language": "python",
   "name": "python3"
  },
  "language_info": {
   "codemirror_mode": {
    "name": "ipython",
    "version": 3
   },
   "file_extension": ".py",
   "mimetype": "text/x-python",
   "name": "python",
   "nbconvert_exporter": "python",
   "pygments_lexer": "ipython3",
   "version": "3.10.8"
  }
 },
 "nbformat": 4,
 "nbformat_minor": 5
}
